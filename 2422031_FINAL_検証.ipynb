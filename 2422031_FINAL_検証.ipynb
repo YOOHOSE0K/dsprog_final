{
  "nbformat": 4,
  "nbformat_minor": 0,
  "metadata": {
    "colab": {
      "provenance": []
    },
    "kernelspec": {
      "name": "python3",
      "display_name": "Python 3"
    },
    "language_info": {
      "name": "python"
    }
  },
  "cells": [
    {
      "cell_type": "code",
      "source": [
        "pip show pandas"
      ],
      "metadata": {
        "colab": {
          "base_uri": "https://localhost:8080/"
        },
        "id": "o-IYFcM706DS",
        "outputId": "48363da3-4087-4aec-9c37-99cf89c35fb4"
      },
      "execution_count": 16,
      "outputs": [
        {
          "output_type": "stream",
          "name": "stdout",
          "text": [
            "Name: pandas\n",
            "Version: 2.2.2\n",
            "Summary: Powerful data structures for data analysis, time series, and statistics\n",
            "Home-page: https://pandas.pydata.org\n",
            "Author: \n",
            "Author-email: The Pandas Development Team <pandas-dev@python.org>\n",
            "License: BSD 3-Clause License\n",
            "\n",
            "Copyright (c) 2008-2011, AQR Capital Management, LLC, Lambda Foundry, Inc. and PyData Development Team\n",
            "All rights reserved.\n",
            "\n",
            "Copyright (c) 2011-2023, Open source contributors.\n",
            "\n",
            "Redistribution and use in source and binary forms, with or without\n",
            "modification, are permitted provided that the following conditions are met:\n",
            "\n",
            "* Redistributions of source code must retain the above copyright notice, this\n",
            "  list of conditions and the following disclaimer.\n",
            "\n",
            "* Redistributions in binary form must reproduce the above copyright notice,\n",
            "  this list of conditions and the following disclaimer in the documentation\n",
            "  and/or other materials provided with the distribution.\n",
            "\n",
            "* Neither the name of the copyright holder nor the names of its\n",
            "  contributors may be used to endorse or promote products derived from\n",
            "  this software without specific prior written permission.\n",
            "\n",
            "THIS SOFTWARE IS PROVIDED BY THE COPYRIGHT HOLDERS AND CONTRIBUTORS \"AS IS\"\n",
            "AND ANY EXPRESS OR IMPLIED WARRANTIES, INCLUDING, BUT NOT LIMITED TO, THE\n",
            "IMPLIED WARRANTIES OF MERCHANTABILITY AND FITNESS FOR A PARTICULAR PURPOSE ARE\n",
            "DISCLAIMED. IN NO EVENT SHALL THE COPYRIGHT HOLDER OR CONTRIBUTORS BE LIABLE\n",
            "FOR ANY DIRECT, INDIRECT, INCIDENTAL, SPECIAL, EXEMPLARY, OR CONSEQUENTIAL\n",
            "DAMAGES (INCLUDING, BUT NOT LIMITED TO, PROCUREMENT OF SUBSTITUTE GOODS OR\n",
            "SERVICES; LOSS OF USE, DATA, OR PROFITS; OR BUSINESS INTERRUPTION) HOWEVER\n",
            "CAUSED AND ON ANY THEORY OF LIABILITY, WHETHER IN CONTRACT, STRICT LIABILITY,\n",
            "OR TORT (INCLUDING NEGLIGENCE OR OTHERWISE) ARISING IN ANY WAY OUT OF THE USE\n",
            "OF THIS SOFTWARE, EVEN IF ADVISED OF THE POSSIBILITY OF SUCH DAMAGE.\n",
            "Location: /usr/local/lib/python3.11/dist-packages\n",
            "Requires: numpy, python-dateutil, pytz, tzdata\n",
            "Required-by: arviz, bigframes, bigquery-magics, bokeh, bqplot, cmdstanpy, cudf-cu12, cufflinks, datascience, db-dtypes, dopamine_rl, fastai, geemap, geopandas, google-colab, gspread-dataframe, holoviews, ibis-framework, mizani, mlxtend, pandas-datareader, pandas-gbq, panel, plotnine, prophet, pymc, seaborn, shap, sklearn-pandas, statsmodels, vega-datasets, xarray, yfinance\n"
          ]
        }
      ]
    },
    {
      "cell_type": "code",
      "execution_count": 1,
      "metadata": {
        "colab": {
          "base_uri": "https://localhost:8080/"
        },
        "id": "V7DxT3asxj7t",
        "outputId": "ffe076d1-374e-4ac1-f026-3376ef19a94b"
      },
      "outputs": [
        {
          "output_type": "stream",
          "name": "stdout",
          "text": [
            "\n",
            "== 2023年 旅行・観光開発指数 ==\n",
            "+----+--------+----------------------+---------+\n",
            "|    |   Rank | Country              |   Score |\n",
            "+====+========+======================+=========+\n",
            "|  0 |      1 | USA                  |    5.24 |\n",
            "+----+--------+----------------------+---------+\n",
            "|  1 |      2 | Spain                |    5.18 |\n",
            "+----+--------+----------------------+---------+\n",
            "|  2 |      3 | Japan                |    5.09 |\n",
            "+----+--------+----------------------+---------+\n",
            "|  3 |      4 | France               |    5.07 |\n",
            "+----+--------+----------------------+---------+\n",
            "|  4 |      5 | Australia            |    5    |\n",
            "+----+--------+----------------------+---------+\n",
            "|  5 |      6 | Germany              |    5    |\n",
            "+----+--------+----------------------+---------+\n",
            "|  6 |      7 | United Kingdom       |    4.96 |\n",
            "+----+--------+----------------------+---------+\n",
            "|  7 |      8 | China                |    4.94 |\n",
            "+----+--------+----------------------+---------+\n",
            "|  8 |      9 | Italy                |    4.9  |\n",
            "+----+--------+----------------------+---------+\n",
            "|  9 |     10 | Switzerland          |    4.81 |\n",
            "+----+--------+----------------------+---------+\n",
            "| 10 |     11 | Canada               |    4.81 |\n",
            "+----+--------+----------------------+---------+\n",
            "| 11 |     12 | Portugal             |    4.78 |\n",
            "+----+--------+----------------------+---------+\n",
            "| 12 |     13 | Singapore            |    4.76 |\n",
            "+----+--------+----------------------+---------+\n",
            "| 13 |     14 | South Korea          |    4.74 |\n",
            "+----+--------+----------------------+---------+\n",
            "| 14 |     15 | Austria              |    4.65 |\n",
            "+----+--------+----------------------+---------+\n",
            "| 15 |     16 | Netherlands          |    4.64 |\n",
            "+----+--------+----------------------+---------+\n",
            "| 16 |     17 | Denmark              |    4.63 |\n",
            "+----+--------+----------------------+---------+\n",
            "| 17 |     18 | United Arab Emirates |    4.62 |\n",
            "+----+--------+----------------------+---------+\n",
            "| 18 |     19 | Sweden               |    4.57 |\n",
            "+----+--------+----------------------+---------+\n",
            "| 19 |     20 | Finland              |    4.52 |\n",
            "+----+--------+----------------------+---------+\n",
            "| 20 |     21 | Greece               |    4.52 |\n",
            "+----+--------+----------------------+---------+\n",
            "| 21 |     22 | Indonesia            |    4.46 |\n",
            "+----+--------+----------------------+---------+\n",
            "| 22 |     23 | Belgium              |    4.45 |\n",
            "+----+--------+----------------------+---------+\n",
            "| 23 |     24 | Ireland              |    4.44 |\n",
            "+----+--------+----------------------+---------+\n",
            "| 24 |     25 | New Zealand          |    4.41 |\n",
            "+----+--------+----------------------+---------+\n",
            "| 25 |     26 | Brazil               |    4.41 |\n",
            "+----+--------+----------------------+---------+\n",
            "| 26 |     27 | Poland               |    4.4  |\n",
            "+----+--------+----------------------+---------+\n",
            "| 27 |     28 | Luxembourg           |    4.4  |\n",
            "+----+--------+----------------------+---------+\n",
            "| 28 |     29 | Turkey               |    4.39 |\n",
            "+----+--------+----------------------+---------+\n",
            "| 29 |     30 | Cyprus               |    4.37 |\n",
            "+----+--------+----------------------+---------+\n",
            "\n",
            "データが 'ttdi_2023.csv' ファイルに保存されました。\n",
            "データが 'ttdi_2023.db' ファイルに保存されました。\n"
          ]
        }
      ],
      "source": [
        "import requests\n",
        "from bs4 import BeautifulSoup\n",
        "import pandas as pd\n",
        "from tabulate import tabulate\n",
        "import re\n",
        "import sqlite3\n",
        "\n",
        "# URL 設定\n",
        "url = \"https://en.wikipedia.org/wiki/Travel_and_Tourism_Development_Index\"\n",
        "\n",
        "# User-Agent 設定\n",
        "headers = {\n",
        "    \"User-Agent\": \"Mozilla/5.0 (Windows NT 10.0; Win64; x64) AppleWebKit/537.36 (KHTML, like Gecko) Chrome/91.0.4472.124 Safari/537.36\"\n",
        "}\n",
        "\n",
        "# データリクエスト\n",
        "response = requests.get(url, headers=headers)\n",
        "\n",
        "if response.status_code == 200:\n",
        "    soup = BeautifulSoup(response.content, \"html.parser\")\n",
        "\n",
        "    # \"2023 ranking\" セクションの最初の <ol> タグを探す\n",
        "    ranking_section = soup.find(\"ol\")\n",
        "\n",
        "    if ranking_section:\n",
        "        # データ保存用リスト\n",
        "        data = []\n",
        "\n",
        "        # ランク、国名、スコアを抽出\n",
        "        for rank, li in enumerate(ranking_section.find_all(\"li\"), start=1):\n",
        "            try:\n",
        "                # 国名を <a> タグから抽出\n",
        "                country = li.find(\"a\").get_text(strip=True)\n",
        "\n",
        "                # スコアを <li> タグのテキストから数値部分を抽出\n",
        "                full_text = li.get_text(strip=True)\n",
        "                score = re.search(r\"(\\d+\\.\\d+)$\", full_text).group(1)  # スコアを正規表現で抽出\n",
        "\n",
        "                # データをリストに保存\n",
        "                data.append({\"Rank\": rank, \"Country\": country, \"Score\": float(score)})\n",
        "            except AttributeError:\n",
        "                print(f\"データが不足しているためスキップ: {li}\")\n",
        "\n",
        "        # DataFrame を作成\n",
        "        df = pd.DataFrame(data)\n",
        "\n",
        "        # 表を出力\n",
        "        print(\"\\n== 2023年 旅行・観光開発指数 ==\")\n",
        "        print(tabulate(df, headers=\"keys\", tablefmt=\"grid\"))\n",
        "\n",
        "        # CSV ファイルに保存\n",
        "        csv_filename = \"ttdi_2023.csv\"\n",
        "        df.to_csv(csv_filename, index=False, encoding=\"utf-8\")\n",
        "        print(f\"\\nデータが '{csv_filename}' ファイルに保存されました。\")\n",
        "\n",
        "        # SQLite データベースに保存\n",
        "        db_filename = \"ttdi_2023.db\"\n",
        "        conn = sqlite3.connect(db_filename)\n",
        "\n",
        "        # テーブルを作成\n",
        "        table_name = \"ttdi_2023_ranking\"\n",
        "        create_table_query = f\"\"\"\n",
        "        CREATE TABLE IF NOT EXISTS {table_name} (\n",
        "            Rank INTEGER PRIMARY KEY,\n",
        "            Country TEXT NOT NULL,\n",
        "            Score REAL NOT NULL\n",
        "        );\n",
        "        \"\"\"\n",
        "        conn.execute(create_table_query)\n",
        "\n",
        "        # DataFrame のデータを SQLite に保存\n",
        "        df.to_sql(table_name, conn, if_exists=\"replace\", index=False)\n",
        "\n",
        "        # データベース接続を閉じる\n",
        "        conn.close()\n",
        "        print(f\"データが '{db_filename}' ファイルに保存されました。\")\n",
        "    else:\n",
        "        print(\"2023 ranking セクションが見つかりませんでした。\")\n",
        "else:\n",
        "    print(f\"データ取得に失敗しました。HTTP ステータスコード: {response.status_code}\")\n"
      ]
    },
    {
      "cell_type": "code",
      "source": [
        "import pandas as pd\n",
        "from scipy.stats import ttest_ind\n",
        "import matplotlib.pyplot as plt\n",
        "\n",
        "# Step 1: CSVファイルの読み込み\n",
        "try:\n",
        "    file_path = \"ttdi_2023.csv\"  # ファイルパス\n",
        "    data = pd.read_csv(file_path)  # CSVファイルを読み込む\n",
        "    print(data.head())  # データの確認\n",
        "except Exception as e:\n",
        "    print(\"CSVファイルの読み込み中にエラーが発生しました:\", e)\n",
        "    exit()\n",
        "\n",
        "# Step 2: ヨーロッパとアジアの国リストを定義\n",
        "europe_countries = ['France', 'Germany', 'Italy', 'Spain']  # ヨーロッパの国\n",
        "asia_countries = ['Japan', 'China', 'India', 'South Korea']  # アジアの国\n",
        "\n",
        "# Step 3: データのフィルタリング\n",
        "# ヨーロッパの国のスコアを抽出\n",
        "europe_data = data[data['Country'].isin(europe_countries)]['Score']\n",
        "# アジアの国のスコアを抽出\n",
        "asia_data = data[data['Country'].isin(asia_countries)]['Score']\n",
        "\n",
        "# Step 4: t検定を実行\n",
        "if len(europe_data) > 0 and len(asia_data) > 0:\n",
        "    # ヨーロッパとアジアのスコアに基づいてt検定を実行\n",
        "    t_stat, p_val = ttest_ind(europe_data, asia_data, equal_var=False)\n",
        "    print(f\"T-Statistic: {t_stat:.2f}, P-Value: {p_val:.4f}\")\n",
        "\n",
        "    # p値に基づく結果の解釈\n",
        "    if p_val < 0.05:\n",
        "        print(\"結論: ヨーロッパの国の平均スコアはアジアの国より有意に高いです。\")\n",
        "    else:\n",
        "        print(\"結論: ヨーロッパの国の平均スコアはアジアの国より有意に高くありません。\")\n",
        "else:\n",
        "    print(\"ヨーロッパまたはアジアのデータが不足しています。\")\n",
        "    exit()\n",
        "\n",
        "# Step 5: 可視化\n",
        "# ヨーロッパとアジアの国をフィルタリングしたデータを作成\n",
        "data_filtered = data[data['Country'].isin(europe_countries + asia_countries)]\n",
        "# 大陸列を追加 (ヨーロッパかアジアかを判別)\n",
        "data_filtered['Continent'] = data_filtered['Country'].apply(\n",
        "    lambda x: 'Europe' if x in europe_countries else 'Asia'\n",
        ")\n",
        "# 箱ひげ図を作成\n",
        "data_filtered.boxplot(column='Score', by='Continent', grid=False)\n",
        "plt.title(\"Europe vs Asia Score Distribution\")  # グラフのタイトル\n",
        "plt.suptitle(\"\")  # デフォルトのタイトルを削除\n",
        "plt.xlabel(\"Continent\")  # x軸ラベル\n",
        "plt.ylabel(\"Score\")  # y軸ラベル\n",
        "plt.show()\n"
      ],
      "metadata": {
        "colab": {
          "base_uri": "https://localhost:8080/",
          "height": 732
        },
        "id": "8QITx34_yEgF",
        "outputId": "9d67f644-5161-4c1f-f041-d80c387ddc61"
      },
      "execution_count": 1,
      "outputs": [
        {
          "output_type": "stream",
          "name": "stdout",
          "text": [
            "   Rank    Country  Score\n",
            "0     1        USA   5.24\n",
            "1     2      Spain   5.18\n",
            "2     3      Japan   5.09\n",
            "3     4     France   5.07\n",
            "4     5  Australia   5.00\n",
            "T-Statistic: 0.97, P-Value: 0.3956\n",
            "結論: ヨーロッパの国の平均スコアはアジアの国より有意に高くありません。\n"
          ]
        },
        {
          "output_type": "stream",
          "name": "stderr",
          "text": [
            "<ipython-input-1-c175bc0c5aea>:43: SettingWithCopyWarning: \n",
            "A value is trying to be set on a copy of a slice from a DataFrame.\n",
            "Try using .loc[row_indexer,col_indexer] = value instead\n",
            "\n",
            "See the caveats in the documentation: https://pandas.pydata.org/pandas-docs/stable/user_guide/indexing.html#returning-a-view-versus-a-copy\n",
            "  data_filtered['Continent'] = data_filtered['Country'].apply(\n"
          ]
        },
        {
          "output_type": "display_data",
          "data": {
            "text/plain": [
              "<Figure size 640x480 with 1 Axes>"
            ],
            "image/png": "[encoded data removed]"
          },
          "metadata": {}
        }
      ]
    },
    {
      "cell_type": "code",
      "source": [],
      "metadata": {
        "id": "Z-eQNgxEyEcb"
      },
      "execution_count": null,
      "outputs": []
    },
    {
      "cell_type": "code",
      "source": [],
      "metadata": {
        "id": "WCEJMC1qyEVG"
      },
      "execution_count": 9,
      "outputs": []
    },
    {
      "cell_type": "code",
      "source": [],
      "metadata": {
        "id": "wmaqm5P-yELx"
      },
      "execution_count": 9,
      "outputs": []
    }
  ]
}